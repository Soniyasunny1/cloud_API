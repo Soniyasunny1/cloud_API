{
 "cells": [
  {
   "cell_type": "code",
   "execution_count": 2,
   "metadata": {},
   "outputs": [
    {
     "name": "stdout",
     "output_type": "stream",
     "text": [
      " * Serving Flask app \"__main__\" (lazy loading)\n",
      " * Environment: production\n",
      "   WARNING: This is a development server. Do not use it in a production deployment.\n",
      "   Use a production WSGI server instead.\n",
      " * Debug mode: off\n"
     ]
    },
    {
     "name": "stderr",
     "output_type": "stream",
     "text": [
      " * Running on http://127.0.0.1:5000/ (Press CTRL+C to quit)\n",
      "127.0.0.1 - - [04/Jul/2022 20:38:58] \"\u001b[37mGET / HTTP/1.1\u001b[0m\" 200 -\n",
      "127.0.0.1 - - [04/Jul/2022 20:43:13] \"\u001b[37mGET /predict/?SepalLengthCm=5.1&SepalWidthCm=2.0&PetalLengthCm=6.1&PetalWidthCm=4.2 HTTP/1.1\u001b[0m\" 200 -\n"
     ]
    }
   ],
   "source": [
    "# importing necessary libraries and functions\n",
    "import numpy as np\n",
    "import pandas as pd\n",
    "from flask import Flask, request, render_template, jsonify\n",
    "import pickle\n",
    "\n",
    "app = Flask(__name__) #Initialize the flask App\n",
    "\n",
    "@app.route('/', methods= ['GET', 'POST']) # Homepage\n",
    "def home():\n",
    "    if(request.method == 'GET'):\n",
    "        data = \"hello world\"\n",
    "        return jsonify({'data': data})\n",
    "\n",
    "@app.route('/predict/')\n",
    "def predict():\n",
    "    model = pickle.load(open('model.pkl', 'rb'))\n",
    "    SepalLengthCm = request.args.get('SepalLengthCm')\n",
    "    SepalWidthCm = request.args.get('SepalWidthCm')\n",
    "    PetalLengthCm = request.args.get('PetalLengthCm')\n",
    "    PetalWidthCm = request.args.get('PetalWidthCm')\n",
    "    test_df = pd.DataFrame({'SepalLengthCm':[SepalLengthCm], 'SepalWidthCm':[SepalWidthCm],\n",
    "                             'PetalLengthCm':[PetalLengthCm], 'PetalWidthCm':[PetalWidthCm]})\n",
    "    prediction = model.predict(test_df)\n",
    "    return jsonify({'Species': str(prediction)})\n",
    "\n",
    "# driver function    \n",
    "if __name__ == \"__main__\":\n",
    "    app.run()"
   ]
  },
  {
   "cell_type": "code",
   "execution_count": null,
   "metadata": {},
   "outputs": [],
   "source": []
  }
 ],
 "metadata": {
  "kernelspec": {
   "display_name": "Python 3.8.8 ('base')",
   "language": "python",
   "name": "python3"
  },
  "language_info": {
   "codemirror_mode": {
    "name": "ipython",
    "version": 3
   },
   "file_extension": ".py",
   "mimetype": "text/x-python",
   "name": "python",
   "nbconvert_exporter": "python",
   "pygments_lexer": "ipython3",
   "version": "3.8.8"
  },
  "orig_nbformat": 4,
  "vscode": {
   "interpreter": {
    "hash": "32c9c2e59fb4dccffeb8780d2ed350b5819cc4aed19d31bb644755c863eab2d1"
   }
  }
 },
 "nbformat": 4,
 "nbformat_minor": 2
}
